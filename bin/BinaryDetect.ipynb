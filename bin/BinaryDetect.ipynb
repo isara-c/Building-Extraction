{
 "cells": [
  {
   "cell_type": "code",
   "execution_count": 2,
   "metadata": {},
   "outputs": [],
   "source": [
    "import numpy as np\n",
    "import cv2"
   ]
  },
  {
   "cell_type": "code",
   "execution_count": 3,
   "metadata": {},
   "outputs": [],
   "source": [
    "def load_image(path_img):\n",
    "    img = cv2.imread(path_img)\n",
    "    return img\n",
    "\n",
    "def contours_img(mask):\n",
    "    contours, _ = cv2.findContours(mask, cv2.RETR_EXTERNAL, cv2.CHAIN_APPROX_SIMPLE)\n",
    "    return contours\n",
    "\n",
    "def filter_shape(contour):\n",
    "    peri = cv2.arcLength(contour, True)\n",
    "    \n",
    "    approx = cv2.approxPolyDP(contour, 0.01 * peri, True)\n",
    "\n",
    "    if len(approx) <= 7:\n",
    "        shape = \"Building\"\n",
    "        \n",
    "    else:\n",
    "        shape = \"Tree\"\n",
    "            \n",
    "    return shape\n",
    "    \n",
    "def filter_contours(contours, img_draw):\n",
    "    count = [0, 0]\n",
    "    sum_area = [0, 0]\n",
    "    for x in range(len(contours)):\n",
    "        shape = filter_shape(contours[x])\n",
    "        #print(shape)\n",
    "        \n",
    "     # if a contour has not contours inside of it, draw the shape filled\n",
    "        c = hier[0][x][2]\n",
    "        if c == -1:\n",
    "            area =  cv2.contourArea(contours[x])\n",
    "            \n",
    "            if area > 280 :\n",
    "                count[1] += 1\n",
    "                sum_area[1] +=  area\n",
    "                \n",
    "                cv2.drawContours(img_draw,[contours[x]],0,(0,0,255),-1)\n",
    "                \n",
    "            elif shape == \"Tree\" :# Tree\n",
    "                count[0] += 1\n",
    "                sum_area[0] +=  area\n",
    "                cv2.drawContours(img_draw,[contours[x]],0,(0,255,0),-1)\n",
    "                #cv2.drawContours(img_draw,[contours[x]],0,(0,255,0),1)\n",
    "                \n",
    "            elif shape == \"Building\": # Building\n",
    "                count[1] += 1\n",
    "                sum_area[1] +=  area\n",
    "                \n",
    "                cv2.drawContours(img_draw,[contours[x]],0,(0,0,255),-1)\n",
    "                #cv2.drawContours(img_draw,[contours[x]],0,(0,255,0),1)\n",
    "        else:\n",
    "            cv2.drawContours(img_draw,[contours[x]],0,(0,0,0),-1)\n",
    "    \n",
    "    return img_draw, count, sum_area\n",
    "\n"
   ]
  },
  {
   "cell_type": "code",
   "execution_count": 5,
   "metadata": {},
   "outputs": [],
   "source": [
    "path_img = './pic/pre-process2.png'\n",
    "img = load_image(path_img)\n",
    "\n",
    "\n",
    "#img = cv2.resize(img, None,fx=0.5,fy=0.5)\n",
    "\n",
    "img_gray = cv2.cvtColor(img, cv2.COLOR_BGR2GRAY)\n",
    "img_gray_blur = cv2.GaussianBlur(img_gray, (3, 3), 0)\n",
    "\n",
    "thresh = cv2.adaptiveThreshold(img_gray_blur, 255, cv2.ADAPTIVE_THRESH_GAUSSIAN_C,cv2.THRESH_BINARY_INV,11,1)\n",
    "\n",
    "#inv_thresh = cv2.bitwise_not(thresh)\n",
    "\n",
    "kernel = np.ones((1,1), np.uint8)\n",
    "#closing  = cv2.morphologyEx(inv_thresh, cv2.MORPH_CLOSE, kernel, iterations=1)\n",
    "closing = cv2.morphologyEx(thresh, cv2.MORPH_CLOSE, kernel)\n",
    "\n",
    "\n",
    "img_draw = img\n",
    "img = closing\n",
    "\n",
    "cv2.imshow(\"Result\", img)\n",
    "cv2.waitKey(0)\n",
    "cv2.destroyAllWindows()"
   ]
  },
  {
   "cell_type": "code",
   "execution_count": 6,
   "metadata": {},
   "outputs": [
    {
     "name": "stdout",
     "output_type": "stream",
     "text": [
      "Tree 500 64070.5\n",
      "Building 249 144116.5\n"
     ]
    }
   ],
   "source": [
    "contours, hier = cv2.findContours(img,cv2.RETR_TREE, cv2.CHAIN_APPROX_SIMPLE)\n",
    "\n",
    "img_draw, count, sum_area = filter_contours(contours, img_draw)\n",
    "\n",
    "print('Tree', count[0], sum_area[0])\n",
    "print('Building', count[1], sum_area[1])\n",
    "\n",
    "cv2.imshow(\"Result\", img_draw)\n",
    "cv2.waitKey(0)\n",
    "cv2.destroyAllWindows()"
   ]
  },
  {
   "cell_type": "code",
   "execution_count": 15,
   "metadata": {},
   "outputs": [
    {
     "data": {
      "text/plain": [
       "True"
      ]
     },
     "execution_count": 15,
     "metadata": {},
     "output_type": "execute_result"
    }
   ],
   "source": [
    "#img_draw = draw_text_on_image(img_draw, count_yellow, count_orange, sum_area_yellow, sum_area_orange)\n",
    "cv2.imwrite('./pic/output.png', img_draw)\n"
   ]
  },
  {
   "cell_type": "code",
   "execution_count": null,
   "metadata": {},
   "outputs": [],
   "source": []
  }
 ],
 "metadata": {
  "kernelspec": {
   "display_name": "TensorFlow2-GPU",
   "language": "python",
   "name": "tf2"
  },
  "language_info": {
   "codemirror_mode": {
    "name": "ipython",
    "version": 3
   },
   "file_extension": ".py",
   "mimetype": "text/x-python",
   "name": "python",
   "nbconvert_exporter": "python",
   "pygments_lexer": "ipython3",
   "version": "3.7.6"
  }
 },
 "nbformat": 4,
 "nbformat_minor": 4
}
