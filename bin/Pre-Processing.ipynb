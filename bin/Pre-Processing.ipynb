{
 "cells": [
  {
   "cell_type": "code",
   "execution_count": 2,
   "metadata": {},
   "outputs": [],
   "source": [
    "import numpy as np\n",
    "import cv2"
   ]
  },
  {
   "cell_type": "code",
   "execution_count": 3,
   "metadata": {},
   "outputs": [],
   "source": [
    "path_img = './pic/main.jpg'\n",
    "img = cv2.imread(path_img)\n",
    "draw_img = img\n",
    "\n",
    "blur = cv2.GaussianBlur(img, (3, 3), 0)\n",
    "h, w = img.shape[:2]"
   ]
  },
  {
   "cell_type": "code",
   "execution_count": 6,
   "metadata": {},
   "outputs": [],
   "source": [
    "# Morphological gradient\n",
    "\n",
    "kernel = cv2.getStructuringElement(cv2.MORPH_ELLIPSE, (5, 5))\n",
    "gradient = cv2.morphologyEx(blur, cv2.MORPH_GRADIENT, kernel)\n",
    "\n",
    "cv2.imshow('Morphological gradient', gradient)\n",
    "cv2.waitKey(0)\n",
    "cv2.destroyAllWindows()"
   ]
  },
  {
   "cell_type": "code",
   "execution_count": 7,
   "metadata": {},
   "outputs": [],
   "source": [
    "# Binarize gradient\n",
    "\n",
    "lowerb = np.array([0, 0, 0])\n",
    "upperb = np.array([11, 11, 11])\n",
    "binary = cv2.inRange(gradient, lowerb, upperb)\n",
    "\n",
    "cv2.imshow('Binarized gradient', binary)\n",
    "cv2.waitKey(0)\n",
    "cv2.destroyAllWindows()"
   ]
  },
  {
   "cell_type": "code",
   "execution_count": 8,
   "metadata": {},
   "outputs": [],
   "source": [
    "# Flood fill from the edges to remove edge object\n",
    "\n",
    "for row in range(h):\n",
    "    if binary[row, 0] == 255:\n",
    "        cv2.floodFill(binary, None, (0, row), 0)\n",
    "    if binary[row, w-1] == 255:\n",
    "        cv2.floodFill(binary, None, (w-1, row), 0)\n",
    "\n",
    "for col in range(w):\n",
    "    if binary[0, col] == 255:\n",
    "        cv2.floodFill(binary, None, (col, 0), 0)\n",
    "    if binary[h-1, col] == 255:\n",
    "        cv2.floodFill(binary, None, (col, h-1), 0)\n",
    "\n",
    "cv2.imshow('Filled binary gradient', binary)\n",
    "cv2.waitKey(0)\n",
    "cv2.destroyAllWindows()"
   ]
  },
  {
   "cell_type": "code",
   "execution_count": 9,
   "metadata": {},
   "outputs": [],
   "source": [
    "# Cleaning up mask\n",
    "\n",
    "kernel = cv2.getStructuringElement(cv2.MORPH_ELLIPSE, (2, 2))\n",
    "\n",
    "foreground = cv2.morphologyEx(binary, cv2.MORPH_OPEN, kernel)\n",
    "foreground = cv2.morphologyEx(foreground, cv2.MORPH_CLOSE, kernel)\n",
    "\n",
    "cv2.imshow('Cleanup up crystal foreground mask', foreground)\n",
    "cv2.waitKey(0)\n",
    "cv2.destroyAllWindows()"
   ]
  },
  {
   "cell_type": "code",
   "execution_count": 11,
   "metadata": {},
   "outputs": [],
   "source": [
    "# Creating background and unknown mask for labeling\n",
    "\n",
    "kernel = cv2.getStructuringElement(cv2.MORPH_ELLIPSE, (17, 17))\n",
    "background = cv2.dilate(foreground, kernel, iterations=3)\n",
    "unknown = cv2.subtract(background, foreground)\n",
    "\n",
    "cv2.imshow('Background', background)\n",
    "cv2.waitKey(0)\n",
    "cv2.destroyAllWindows()"
   ]
  },
  {
   "cell_type": "code",
   "execution_count": 12,
   "metadata": {},
   "outputs": [
    {
     "name": "stdout",
     "output_type": "stream",
     "text": [
      "766\n"
     ]
    }
   ],
   "source": [
    "# Watershed\n",
    "\n",
    "ret, markers = cv2.connectedComponents(foreground)\n",
    "markers += 1  # Add one to all labels so that background is 1, not 0\n",
    "markers[unknown==255] = 0  # mark the region of unknown with zero\n",
    "markers = cv2.watershed(img, markers)\n",
    "print(ret)"
   ]
  },
  {
   "cell_type": "code",
   "execution_count": 13,
   "metadata": {},
   "outputs": [],
   "source": [
    "# Assign the markers a hue between 0 and 179\n",
    "\n",
    "hue_markers = np.uint8(179*np.float32(markers)/np.max(markers))\n",
    "blank_channel = 255*np.ones((h, w), dtype=np.uint8)\n",
    "\n",
    "marker_img = cv2.merge([hue_markers, blank_channel, blank_channel])\n",
    "marker_img = cv2.cvtColor(marker_img, cv2.COLOR_HSV2BGR)\n",
    "marker_img[hue_markers == 0] = 0\n",
    "\n",
    "cv2.imshow('Colored markers', marker_img)\n",
    "cv2.waitKey(0)\n",
    "cv2.destroyAllWindows()"
   ]
  },
  {
   "cell_type": "code",
   "execution_count": 10,
   "metadata": {},
   "outputs": [],
   "source": [
    "# Label the original image with the watershed markers\n",
    "\n",
    "labeled_img = img.copy()\n",
    "labeled_img[markers>1] = ma144116.5 rker_img[markers>1]  # 1 is background color\n",
    "labeled_img = cv2.addWeighted(img, 0.5, labeled_img, 0.5, 0)\n",
    "\n",
    "cv2.imshow('watershed_result.png', labeled_img)\n",
    "cv2.waitKey(0)\n",
    "cv2.destroyAllWindows()"
   ]
  },
  {
   "cell_type": "code",
   "execution_count": 11,
   "metadata": {},
   "outputs": [
    {
     "data": {
      "text/plain": [
       "True"
      ]
     },
     "execution_count": 11,
     "metadata": {},
     "output_type": "execute_result"
    }
   ],
   "source": [
    "cv2.imwrite('./pic/output_preprocessing.png', labeled_img)"
   ]
  }
 ],
 "metadata": {
  "kernelspec": {
   "display_name": "TensorFlow2-GPU",
   "language": "python",
   "name": "tf2"
  },
  "language_info": {
   "codemirror_mode": {
    "name": "ipython",
    "version": 3
   },
   "file_extension": ".py",
   "mimetype": "text/x-python",
   "name": "python",
   "nbconvert_exporter": "python",
   "pygments_lexer": "ipython3",
   "version": "3.7.6"
  }
 },
 "nbformat": 4,
 "nbformat_minor": 4
}
