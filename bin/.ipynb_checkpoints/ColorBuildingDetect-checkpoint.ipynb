{
 "cells": [
  {
   "cell_type": "code",
   "execution_count": 1,
   "metadata": {},
   "outputs": [],
   "source": [
    "import cv2\n",
    "import numpy as np  "
   ]
  },
  {
   "cell_type": "code",
   "execution_count": 2,
   "metadata": {},
   "outputs": [],
   "source": [
    "#load image and convert to hsv\n",
    "path_img = './pic/test.JPG'\n",
    "img = cv2.imread(path_img)"
   ]
  },
  {
   "cell_type": "code",
   "execution_count": 3,
   "metadata": {},
   "outputs": [],
   "source": [
    "# draw gray box around image to detect edge buildings\n",
    "h,w = img.shape[:2]\n",
    "cv2.rectangle(img,(0,0),(w-1,h-1), (50,50,50),1)"
   ]
  },
  {
   "cell_type": "code",
   "execution_count": 4,
   "metadata": {},
   "outputs": [],
   "source": [
    "# convert image to HSV\n",
    "hsv = cv2.cvtColor(img, cv2.COLOR_BGR2HSV)"
   ]
  },
  {
   "cell_type": "code",
   "execution_count": 5,
   "metadata": {},
   "outputs": [],
   "source": [
    "# define color ranges\n",
    "low_yellow = (0,28,0)\n",
    "high_yellow = (27,255,255)\n",
    "\n",
    "low_gray = (0,0,0)\n",
    "high_gray = (179,255,233)\n",
    "\n",
    "\n",
    " # create masks\n",
    "yellow_mask = cv2.inRange(hsv, low_yellow, high_yellow )\n",
    "gray_mask = cv2.inRange(hsv, low_gray, high_gray)"
   ]
  },
  {
   "cell_type": "code",
   "execution_count": 6,
   "metadata": {},
   "outputs": [],
   "source": [
    " # combine masks\n",
    "combined_mask = cv2.bitwise_or(yellow_mask, gray_mask)\n",
    "kernel = np.ones((3,3), dtype=np.uint8)\n",
    "combined_mask = cv2.morphologyEx(combined_mask, cv2.MORPH_DILATE,kernel)\n"
   ]
  },
  {
   "cell_type": "code",
   "execution_count": 10,
   "metadata": {},
   "outputs": [],
   "source": [
    "# findcontours\n",
    "contours, hier = cv2.findContours(combined_mask,cv2.RETR_TREE, cv2.CHAIN_APPROX_SIMPLE)\n",
    "\n",
    "# find and draw buildings\n",
    "for x in range(len(contours)):\n",
    "        # if a contour has not contours inside of it, draw the shape filled\n",
    "    c = hier[0][x][2]\n",
    "    if c == -1:\n",
    "        cv2.drawContours(img,[contours[x]],0,(0,0,255),-1)\n",
    "\n",
    "    # draw the outline of all contours\n",
    "for cnt in contours:\n",
    "    cv2.drawContours(img,[cnt],0,(0,255,0),2)\n",
    "\n"
   ]
  },
  {
   "cell_type": "code",
   "execution_count": 11,
   "metadata": {},
   "outputs": [],
   "source": [
    "# display result\n",
    "cv2.imshow(\"Result\", img)\n",
    "cv2.waitKey(0)\n",
    "cv2.destroyAllWindows() "
   ]
  },
  {
   "cell_type": "code",
   "execution_count": null,
   "metadata": {},
   "outputs": [],
   "source": []
  }
 ],
 "metadata": {
  "kernelspec": {
   "display_name": "TensorFlow2-GPU",
   "language": "python",
   "name": "tf2"
  },
  "language_info": {
   "codemirror_mode": {
    "name": "ipython",
    "version": 3
   },
   "file_extension": ".py",
   "mimetype": "text/x-python",
   "name": "python",
   "nbconvert_exporter": "python",
   "pygments_lexer": "ipython3",
   "version": "3.7.6"
  }
 },
 "nbformat": 4,
 "nbformat_minor": 4
}
