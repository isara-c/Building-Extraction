{
 "cells": [
  {
   "cell_type": "code",
   "execution_count": 1,
   "metadata": {},
   "outputs": [],
   "source": [
    "import numpy as np\n",
    "import cv2\n"
   ]
  },
  {
   "cell_type": "code",
   "execution_count": 2,
   "metadata": {},
   "outputs": [],
   "source": [
    "def load_image(path_img):\n",
    "    img = cv2.imread(path_img)\n",
    "    return img\n",
    "\n",
    "def bgr2hsv(img):\n",
    "    return cv2.cvtColor(img, cv2.COLOR_BGR2HSV)\n",
    "\n",
    "def setRangeColor(hsv, lower_color, upper_color):\n",
    "    return cv2.inRange(hsv, lower_color, upper_color)\n",
    "\n",
    "def contours_img(mask):\n",
    "    contours, _ = cv2.findContours(mask, cv2.RETR_TREE, cv2.CHAIN_APPROX_SIMPLE)\n",
    "    return contours\n",
    "\n",
    "def filter_contours_img(contours, img_draw, color_bbox):\n",
    "    count = 0\n",
    "    for c in contours:\n",
    "        rect = cv2.boundingRect(c)\n",
    "        x,y,w,h = rect\n",
    "        area = w * h\n",
    "        if area > 1000:\n",
    "            count = count + 1 # นับ object ที่มีพื้นที่มากกว่า 1000 pixel\n",
    "            cv2.rectangle(img_draw, (x, y), (x+w, y+h), color_bbox, 5)\n",
    "    return img_draw, count\n",
    "\n",
    "def draw_text_on_image(img_draw, count_yellow, count_orange):\n",
    "    cv2.rectangle(img_draw, (0, 0), (500, 120), (0,0,0), -1)\n",
    "    cv2.putText(img_draw,'Orange Count : ' + str(count_orange), \n",
    "        (10,50),                  # bottomLeftCornerOfText\n",
    "        cv2.FONT_HERSHEY_SIMPLEX, # font \n",
    "        1.5,                      # fontScale\n",
    "        (0,255,255),              # fontColor\n",
    "        2)                        # lineType\n",
    "    cv2.putText(img_draw,'Yellow Count : ' + str(count_yellow), \n",
    "        (10,100),                  # bottomLeftCornerOfText\n",
    "        cv2.FONT_HERSHEY_SIMPLEX, # font \n",
    "        1.5,                      # fontScale\n",
    "        (0,255,255),              # fontColor\n",
    "        2)                        # lineType\n",
    "    return img_draw"
   ]
  },
  {
   "cell_type": "code",
   "execution_count": 3,
   "metadata": {},
   "outputs": [],
   "source": [
    "path_img = './pic/test_pic.png'\n",
    "img = load_image(path_img)\n",
    "img = cv2.resize(img, None,fx=0.5,fy=0.5)\n",
    "hsv = bgr2hsv(img)\n",
    "img_draw = img"
   ]
  },
  {
   "cell_type": "code",
   "execution_count": 4,
   "metadata": {},
   "outputs": [
    {
     "name": "stdout",
     "output_type": "stream",
     "text": [
      "Yellow Count: 21\n"
     ]
    }
   ],
   "source": [
    "# define range of Yellow color in HSV\n",
    "lower_Yellow = np.array([20,100,100])\n",
    "upper_Yellow = np.array([45,255,255])\n",
    "mask = setRangeColor(hsv, lower_Yellow, upper_Yellow)\n",
    "contours = contours_img(mask)\n",
    "color_bbox = (0, 0, 255)\n",
    "img_draw, count_yellow = filter_contours_img(contours, img_draw, color_bbox)\n",
    "print('Yellow Count:', count_yellow)"
   ]
  },
  {
   "cell_type": "code",
   "execution_count": 5,
   "metadata": {},
   "outputs": [
    {
     "name": "stdout",
     "output_type": "stream",
     "text": [
      "Orange Count: 19\n"
     ]
    }
   ],
   "source": [
    "# define range of Orange color in HSV\n",
    "lower_Orange = np.array([0,150,150])\n",
    "upper_Orange = np.array([20,255,255])\n",
    "mask = setRangeColor(hsv, lower_Orange, upper_Orange)\n",
    "contours = contours_img(mask)\n",
    "color_bbox = (0, 255, 0)\n",
    "img_draw, count_orange = filter_contours_img(contours, img_draw, color_bbox)\n",
    "img_draw = draw_text_on_image(img_draw, count_yellow, count_orange)\n",
    "\n",
    "print('Orange Count:', count_orange)"
   ]
  },
  {
   "cell_type": "code",
   "execution_count": 6,
   "metadata": {},
   "outputs": [
    {
     "data": {
      "text/plain": [
       "True"
      ]
     },
     "execution_count": 6,
     "metadata": {},
     "output_type": "execute_result"
    }
   ],
   "source": [
    "cv2.imwrite('./pic/output.png', img_draw)\n"
   ]
  },
  {
   "cell_type": "code",
   "execution_count": null,
   "metadata": {},
   "outputs": [],
   "source": []
  }
 ],
 "metadata": {
  "kernelspec": {
   "display_name": "TensorFlow2-GPU",
   "language": "python",
   "name": "tf2"
  },
  "language_info": {
   "codemirror_mode": {
    "name": "ipython",
    "version": 3
   },
   "file_extension": ".py",
   "mimetype": "text/x-python",
   "name": "python",
   "nbconvert_exporter": "python",
   "pygments_lexer": "ipython3",
   "version": "3.7.6"
  }
 },
 "nbformat": 4,
 "nbformat_minor": 4
}
