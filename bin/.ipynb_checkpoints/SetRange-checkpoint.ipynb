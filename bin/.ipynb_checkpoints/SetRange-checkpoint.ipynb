{
 "cells": [
  {
   "cell_type": "code",
   "execution_count": 1,
   "metadata": {},
   "outputs": [],
   "source": [
    "import cv2\n",
    "import numpy as np "
   ]
  },
  {
   "cell_type": "code",
   "execution_count": 2,
   "metadata": {},
   "outputs": [],
   "source": [
    "def load_image(path_img):\n",
    "    img = cv2.imread(path_img)\n",
    "    return img\n",
    "\n",
    "def createGUI():\n",
    "    '''Function that creates the trackbar interface'''\n",
    "    global screen, buttons\n",
    "    cv2.createTrackbar(\"Low Hue\", screen, 0,179,lambda x: updateValues(x, 0,0))\n",
    "    cv2.createTrackbar(\"High Hue\", screen, 179,179,lambda x: updateValues(x,1, 0))\n",
    "    cv2.createTrackbar(\"Low Sat\", screen, 0,255,lambda x: updateValues(x, 0,1))\n",
    "    cv2.createTrackbar(\"High Sat\", screen, 255,255,lambda x: updateValues(x, 1,1))\n",
    "    cv2.createTrackbar(\"Low Val\", screen, 0,255,lambda x: updateValues(x, 0,2))\n",
    "    cv2.createTrackbar(\"High Val\", screen, 255,255,lambda x: updateValues(x, 1,2))\n",
    "    cv2.createTrackbar(\"Invert\", screen, 0,1, doInvert)\n",
    "\n",
    "def doInvert(val):\n",
    "    '''Function that alters mask inversion'''\n",
    "    global invert\n",
    "    if val == 1:\n",
    "        invert = True\n",
    "    else:\n",
    "        invert = False\n",
    "    updateImg()\n",
    "\n",
    "def updateValues(val, colrange, param):\n",
    "    '''Function that updates the value ranges as set by the trackbars '''\n",
    "    global col\n",
    "    col[colrange][param] = val\n",
    "    updateImg()\n",
    "\n",
    "def updateImg():\n",
    "    '''Displays image, masked with updated values'''\n",
    "    mask = cv2.inRange(img_hsv, tuple(col[0]),tuple(col[1]))\n",
    "    if invert:\n",
    "        mask = cv2.bitwise_not(mask)\n",
    "    res = cv2.bitwise_and(img,img,mask=mask)\n",
    "    cv2.imshow('Image', res)"
   ]
  },
  {
   "cell_type": "code",
   "execution_count": 3,
   "metadata": {},
   "outputs": [],
   "source": [
    "path_img = './pic/main.JPG'\n",
    "img = load_image(path_img)\n",
    "\n",
    "invert = False\n",
    "screen = \"Control\"\n",
    "cv2.namedWindow(screen, cv2.WINDOW_AUTOSIZE)\n",
    "\n",
    "img_hsv = cv2.cvtColor(img, cv2.COLOR_BGR2HSV)\n",
    "cv2.imshow('Image', img)\n",
    "createGUI()\n",
    "col = [[0,0,0],[179,255,255]]\n",
    "\n",
    "cv2.waitKey(0)\n",
    "cv2.destroyAllWindows()"
   ]
  },
  {
   "cell_type": "code",
   "execution_count": 4,
   "metadata": {},
   "outputs": [],
   "source": [
    "\n",
    "img_gray = cv2.cvtColor(img_hsv, cv2.COLOR_BGR2GRAY)\n",
    "img_gray_blur = cv2.GaussianBlur(img_gray, (15, 15), 0)\n",
    "thresh = cv2.adaptiveThreshold(img_gray_blur, 255, cv2.ADAPTIVE_THRESH_GAUSSIAN_C,\\\n",
    "                               cv2.THRESH_BINARY_INV,11,1)\n",
    "\n",
    "inv_thresh = cv2.bitwise_not(thresh)\n",
    "kernel = np.ones((10,10), np.uint8)\n",
    "closing  = cv2.morphologyEx(inv_thresh, cv2.MORPH_CLOSE, kernel, iterations=5)\n",
    "\n"
   ]
  },
  {
   "cell_type": "code",
   "execution_count": 5,
   "metadata": {},
   "outputs": [
    {
     "data": {
      "text/plain": [
       "array([[[ 50,  50,  50],\n",
       "        [ 50,  50,  50],\n",
       "        [ 50,  50,  50],\n",
       "        ...,\n",
       "        [ 50,  50,  50],\n",
       "        [ 50,  50,  50],\n",
       "        [ 50,  50,  50]],\n",
       "\n",
       "       [[ 50,  50,  50],\n",
       "        [164, 164, 164],\n",
       "        [149, 149, 149],\n",
       "        ...,\n",
       "        [ 70,  70,  70],\n",
       "        [ 79,  79,  79],\n",
       "        [ 50,  50,  50]],\n",
       "\n",
       "       [[ 50,  50,  50],\n",
       "        [155, 155, 155],\n",
       "        [131, 131, 131],\n",
       "        ...,\n",
       "        [ 69,  69,  69],\n",
       "        [ 79,  79,  79],\n",
       "        [ 50,  50,  50]],\n",
       "\n",
       "       ...,\n",
       "\n",
       "       [[ 50,  50,  50],\n",
       "        [222, 222, 222],\n",
       "        [202, 202, 202],\n",
       "        ...,\n",
       "        [136, 136, 136],\n",
       "        [157, 157, 157],\n",
       "        [ 50,  50,  50]],\n",
       "\n",
       "       [[ 50,  50,  50],\n",
       "        [223, 223, 223],\n",
       "        [203, 203, 203],\n",
       "        ...,\n",
       "        [162, 162, 162],\n",
       "        [180, 180, 180],\n",
       "        [ 50,  50,  50]],\n",
       "\n",
       "       [[ 50,  50,  50],\n",
       "        [ 50,  50,  50],\n",
       "        [ 50,  50,  50],\n",
       "        ...,\n",
       "        [ 50,  50,  50],\n",
       "        [ 50,  50,  50],\n",
       "        [ 50,  50,  50]]], dtype=uint8)"
      ]
     },
     "execution_count": 5,
     "metadata": {},
     "output_type": "execute_result"
    }
   ],
   "source": [
    " # draw gray box around image to detect edge buildings\n",
    "h,w = img.shape[:2]\n",
    "cv2.rectangle(img,(0,0),(w-1,h-1), (50,50,50),1)"
   ]
  },
  {
   "cell_type": "code",
   "execution_count": 6,
   "metadata": {},
   "outputs": [],
   "source": [
    "# convert image to HSV\n",
    "hsv = cv2.cvtColor(img, cv2.COLOR_BGR2HSV)\n"
   ]
  },
  {
   "cell_type": "code",
   "execution_count": 7,
   "metadata": {},
   "outputs": [],
   "source": [
    " # define color ranges\n",
    "low_yellow = (0,28,0)\n",
    "high_yellow = (27,255,255)\n",
    "\n",
    "low_gray = (0,0,0)\n",
    "high_gray = (179,255,233)"
   ]
  },
  {
   "cell_type": "code",
   "execution_count": 8,
   "metadata": {},
   "outputs": [],
   "source": [
    "  # create masks\n",
    "yellow_mask = cv2.inRange(hsv, low_yellow, high_yellow )\n",
    "gray_mask = cv2.inRange(hsv, low_gray, high_gray)"
   ]
  },
  {
   "cell_type": "code",
   "execution_count": 9,
   "metadata": {},
   "outputs": [],
   "source": [
    " # combine masks\n",
    "combined_mask = cv2.bitwise_or(yellow_mask, gray_mask)\n",
    "kernel = np.ones((3,3), dtype=np.uint8)\n",
    "combined_mask = cv2.morphologyEx(combined_mask, cv2.MORPH_DILATE,kernel)"
   ]
  },
  {
   "cell_type": "code",
   "execution_count": 10,
   "metadata": {},
   "outputs": [],
   "source": [
    "# findcontours\n",
    "contours, hier = cv2.findContours(combined_mask,cv2.RETR_TREE, cv2.CHAIN_APPROX_SIMPLE)\n"
   ]
  },
  {
   "cell_type": "code",
   "execution_count": 11,
   "metadata": {},
   "outputs": [],
   "source": [
    "# find and draw buildings\n",
    "for x in range(len(contours)):\n",
    "     # if a contour has not contours inside of it, draw the shape filled\n",
    "    c = hier[0][x][2]\n",
    "    if c == -1:\n",
    "        cv2.drawContours(img,[contours[x]],0,(0,0,255),-1)"
   ]
  },
  {
   "cell_type": "code",
   "execution_count": 12,
   "metadata": {},
   "outputs": [],
   "source": [
    "# draw the outline of all contours\n",
    "for cnt in contours:\n",
    "    cv2.drawContours(img,[cnt],0,(0,255,0),2)\n"
   ]
  },
  {
   "cell_type": "code",
   "execution_count": null,
   "metadata": {},
   "outputs": [],
   "source": [
    "cv2.imshow(\"Result\", img)\n",
    "cv2.waitKey(0)\n",
    "cv2.destroyAllWindows()"
   ]
  },
  {
   "cell_type": "code",
   "execution_count": null,
   "metadata": {},
   "outputs": [],
   "source": []
  }
 ],
 "metadata": {
  "kernelspec": {
   "display_name": "TensorFlow2-GPU",
   "language": "python",
   "name": "tf2"
  },
  "language_info": {
   "codemirror_mode": {
    "name": "ipython",
    "version": 3
   },
   "file_extension": ".py",
   "mimetype": "text/x-python",
   "name": "python",
   "nbconvert_exporter": "python",
   "pygments_lexer": "ipython3",
   "version": "3.7.6"
  }
 },
 "nbformat": 4,
 "nbformat_minor": 4
}
